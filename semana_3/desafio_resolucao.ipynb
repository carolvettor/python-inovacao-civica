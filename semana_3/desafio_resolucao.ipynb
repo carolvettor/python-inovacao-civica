{
 "cells": [
  {
   "cell_type": "markdown",
   "id": "4914c7df",
   "metadata": {
    "id": "bFYatS11gOtN"
   },
   "source": [
    "# Desafio"
   ]
  },
  {
   "cell_type": "markdown",
   "id": "4ac55729",
   "metadata": {},
   "source": [
    "### Acesse a api da camara, e recupere os reembolsos do ano de 2018"
   ]
  },
  {
   "cell_type": "code",
   "execution_count": 4,
   "id": "e335c8c7",
   "metadata": {
    "id": "H-ShSuQJ5ICY"
   },
   "outputs": [],
   "source": [
    "import requests\n",
    "\n",
    "# fazendo o download do conteúdo do arquivo\n",
    "url = f\"http://www.camara.leg.br/cotas/Ano-2018.csv.zip\"\n",
    "r = requests.get(url)\n"
   ]
  },
  {
   "cell_type": "markdown",
   "id": "e7244afa",
   "metadata": {
    "id": "9V6UrEjQiS4S"
   },
   "source": [
    "### Leia o Arquivo csv "
   ]
  },
  {
   "cell_type": "code",
   "execution_count": 8,
   "id": "5c744eda-aca8-4225-916e-bd035b58c36c",
   "metadata": {},
   "outputs": [],
   "source": [
    "# salvando os dados em um arquivo\n",
    "with open(f\"Ano-2018.csv.zip\", \"wb\") as file:\n",
    "\n",
    "    # escrever o conteúdo\n",
    "    file.write(r.content)"
   ]
  },
  {
   "cell_type": "code",
   "execution_count": 9,
   "id": "6b03cbe9-4a8b-4daa-a6b0-79d254371c89",
   "metadata": {},
   "outputs": [
    {
     "data": {
      "text/plain": [
       "<zipfile.ZipFile filename='Ano-2018.csv.zip' mode='r'>"
      ]
     },
     "execution_count": 9,
     "metadata": {},
     "output_type": "execute_result"
    }
   ],
   "source": [
    "# descompactando o arquivo\n",
    "from zipfile import ZipFile\n",
    "\n",
    "zip_file = ZipFile(f\"Ano-2018.csv.zip\", 'r')\n",
    "zip_file.extract(member=f\"Ano-2018.csv\", path=f\"reembolso-2018\")\n",
    "zip_file.close()"
   ]
  },
  {
   "cell_type": "code",
   "execution_count": 14,
   "id": "67b2dd46-11d7-4962-ab59-6c09595f2787",
   "metadata": {},
   "outputs": [],
   "source": [
    "import pandas as pd\n",
    "\n",
    "data = pd.read_csv(\"reembolso-2018/Ano-2018.csv\", delimiter=';')"
   ]
  },
  {
   "cell_type": "code",
   "execution_count": 29,
   "id": "1bc68bc4-f9a6-4b89-bd6a-7a606dd62c44",
   "metadata": {},
   "outputs": [
    {
     "data": {
      "text/plain": [
       "(292655, 31)"
      ]
     },
     "execution_count": 29,
     "metadata": {},
     "output_type": "execute_result"
    }
   ],
   "source": [
    "data.shape"
   ]
  },
  {
   "cell_type": "markdown",
   "id": "04ac3026",
   "metadata": {},
   "source": [
    "### Visualize 10 linhas aleatórias"
   ]
  },
  {
   "cell_type": "code",
   "execution_count": 16,
   "id": "fbde4877",
   "metadata": {},
   "outputs": [
    {
     "data": {
      "text/html": [
       "<div>\n",
       "<style scoped>\n",
       "    .dataframe tbody tr th:only-of-type {\n",
       "        vertical-align: middle;\n",
       "    }\n",
       "\n",
       "    .dataframe tbody tr th {\n",
       "        vertical-align: top;\n",
       "    }\n",
       "\n",
       "    .dataframe thead th {\n",
       "        text-align: right;\n",
       "    }\n",
       "</style>\n",
       "<table border=\"1\" class=\"dataframe\">\n",
       "  <thead>\n",
       "    <tr style=\"text-align: right;\">\n",
       "      <th></th>\n",
       "      <th>txNomeParlamentar</th>\n",
       "      <th>cpf</th>\n",
       "      <th>ideCadastro</th>\n",
       "      <th>nuCarteiraParlamentar</th>\n",
       "      <th>nuLegislatura</th>\n",
       "      <th>sgUF</th>\n",
       "      <th>sgPartido</th>\n",
       "      <th>codLegislatura</th>\n",
       "      <th>numSubCota</th>\n",
       "      <th>txtDescricao</th>\n",
       "      <th>...</th>\n",
       "      <th>numAno</th>\n",
       "      <th>numParcela</th>\n",
       "      <th>txtPassageiro</th>\n",
       "      <th>txtTrecho</th>\n",
       "      <th>numLote</th>\n",
       "      <th>numRessarcimento</th>\n",
       "      <th>vlrRestituicao</th>\n",
       "      <th>nuDeputadoId</th>\n",
       "      <th>ideDocumento</th>\n",
       "      <th>urlDocumento</th>\n",
       "    </tr>\n",
       "  </thead>\n",
       "  <tbody>\n",
       "    <tr>\n",
       "      <th>180166</th>\n",
       "      <td>Roberto de Lucena</td>\n",
       "      <td>5.781728e+09</td>\n",
       "      <td>160653.0</td>\n",
       "      <td>385.0</td>\n",
       "      <td>2015</td>\n",
       "      <td>SP</td>\n",
       "      <td>PODE</td>\n",
       "      <td>55</td>\n",
       "      <td>11</td>\n",
       "      <td>SERVIÇOS POSTAIS</td>\n",
       "      <td>...</td>\n",
       "      <td>2018</td>\n",
       "      <td>0</td>\n",
       "      <td>NaN</td>\n",
       "      <td>NaN</td>\n",
       "      <td>0</td>\n",
       "      <td>0.0</td>\n",
       "      <td>NaN</td>\n",
       "      <td>2282</td>\n",
       "      <td>0</td>\n",
       "      <td>NaN</td>\n",
       "    </tr>\n",
       "    <tr>\n",
       "      <th>222038</th>\n",
       "      <td>Helder Salomão</td>\n",
       "      <td>7.680874e+10</td>\n",
       "      <td>178873.0</td>\n",
       "      <td>279.0</td>\n",
       "      <td>2015</td>\n",
       "      <td>ES</td>\n",
       "      <td>PT</td>\n",
       "      <td>55</td>\n",
       "      <td>122</td>\n",
       "      <td>SERVIÇO DE TÁXI, PEDÁGIO E ESTACIONAMENTO</td>\n",
       "      <td>...</td>\n",
       "      <td>2018</td>\n",
       "      <td>0</td>\n",
       "      <td>NaN</td>\n",
       "      <td>NaN</td>\n",
       "      <td>1537370</td>\n",
       "      <td>NaN</td>\n",
       "      <td>NaN</td>\n",
       "      <td>2894</td>\n",
       "      <td>6694137</td>\n",
       "      <td>https://www.camara.leg.br/cota-parlamentar/doc...</td>\n",
       "    </tr>\n",
       "    <tr>\n",
       "      <th>159739</th>\n",
       "      <td>Zeca Dirceu</td>\n",
       "      <td>3.098872e+09</td>\n",
       "      <td>160592.0</td>\n",
       "      <td>468.0</td>\n",
       "      <td>2015</td>\n",
       "      <td>PR</td>\n",
       "      <td>PT</td>\n",
       "      <td>55</td>\n",
       "      <td>14</td>\n",
       "      <td>HOSPEDAGEM ,EXCETO DO PARLAMENTAR NO DISTRITO ...</td>\n",
       "      <td>...</td>\n",
       "      <td>2018</td>\n",
       "      <td>0</td>\n",
       "      <td>NaN</td>\n",
       "      <td>NaN</td>\n",
       "      <td>1540500</td>\n",
       "      <td>NaN</td>\n",
       "      <td>NaN</td>\n",
       "      <td>2238</td>\n",
       "      <td>6702472</td>\n",
       "      <td>https://www.camara.leg.br/cota-parlamentar/doc...</td>\n",
       "    </tr>\n",
       "    <tr>\n",
       "      <th>44615</th>\n",
       "      <td>Julio Lopes</td>\n",
       "      <td>5.924522e+10</td>\n",
       "      <td>74253.0</td>\n",
       "      <td>586.0</td>\n",
       "      <td>2015</td>\n",
       "      <td>RJ</td>\n",
       "      <td>PP</td>\n",
       "      <td>55</td>\n",
       "      <td>3</td>\n",
       "      <td>COMBUSTÍVEIS E LUBRIFICANTES.</td>\n",
       "      <td>...</td>\n",
       "      <td>2018</td>\n",
       "      <td>0</td>\n",
       "      <td>NaN</td>\n",
       "      <td>NaN</td>\n",
       "      <td>1466733</td>\n",
       "      <td>NaN</td>\n",
       "      <td>NaN</td>\n",
       "      <td>1576</td>\n",
       "      <td>6507503</td>\n",
       "      <td>https://www.camara.leg.br/cota-parlamentar/doc...</td>\n",
       "    </tr>\n",
       "    <tr>\n",
       "      <th>254977</th>\n",
       "      <td>Marcos Soares</td>\n",
       "      <td>5.217857e+09</td>\n",
       "      <td>178943.0</td>\n",
       "      <td>574.0</td>\n",
       "      <td>2015</td>\n",
       "      <td>RJ</td>\n",
       "      <td>DEM</td>\n",
       "      <td>55</td>\n",
       "      <td>1</td>\n",
       "      <td>MANUTENÇÃO DE ESCRITÓRIO DE APOIO À ATIVIDADE ...</td>\n",
       "      <td>...</td>\n",
       "      <td>2018</td>\n",
       "      <td>0</td>\n",
       "      <td>NaN</td>\n",
       "      <td>NaN</td>\n",
       "      <td>1496930</td>\n",
       "      <td>NaN</td>\n",
       "      <td>NaN</td>\n",
       "      <td>2911</td>\n",
       "      <td>6586025</td>\n",
       "      <td>https://www.camara.leg.br/cota-parlamentar/doc...</td>\n",
       "    </tr>\n",
       "    <tr>\n",
       "      <th>271692</th>\n",
       "      <td>Eduardo Cury</td>\n",
       "      <td>4.909671e+09</td>\n",
       "      <td>178977.0</td>\n",
       "      <td>353.0</td>\n",
       "      <td>2015</td>\n",
       "      <td>SP</td>\n",
       "      <td>PSDB</td>\n",
       "      <td>55</td>\n",
       "      <td>5</td>\n",
       "      <td>DIVULGAÇÃO DA ATIVIDADE PARLAMENTAR.</td>\n",
       "      <td>...</td>\n",
       "      <td>2018</td>\n",
       "      <td>0</td>\n",
       "      <td>NaN</td>\n",
       "      <td>NaN</td>\n",
       "      <td>1544004</td>\n",
       "      <td>NaN</td>\n",
       "      <td>NaN</td>\n",
       "      <td>2982</td>\n",
       "      <td>6711871</td>\n",
       "      <td>https://www.camara.leg.br/cota-parlamentar/doc...</td>\n",
       "    </tr>\n",
       "    <tr>\n",
       "      <th>234226</th>\n",
       "      <td>ZECA DO PT</td>\n",
       "      <td>4.064992e+09</td>\n",
       "      <td>178902.0</td>\n",
       "      <td>440.0</td>\n",
       "      <td>2015</td>\n",
       "      <td>MS</td>\n",
       "      <td>PT</td>\n",
       "      <td>55</td>\n",
       "      <td>14</td>\n",
       "      <td>HOSPEDAGEM ,EXCETO DO PARLAMENTAR NO DISTRITO ...</td>\n",
       "      <td>...</td>\n",
       "      <td>2018</td>\n",
       "      <td>0</td>\n",
       "      <td>NaN</td>\n",
       "      <td>NaN</td>\n",
       "      <td>1464457</td>\n",
       "      <td>NaN</td>\n",
       "      <td>NaN</td>\n",
       "      <td>2944</td>\n",
       "      <td>6501388</td>\n",
       "      <td>https://www.camara.leg.br/cota-parlamentar/doc...</td>\n",
       "    </tr>\n",
       "    <tr>\n",
       "      <th>278210</th>\n",
       "      <td>Nilto Tatto</td>\n",
       "      <td>3.380917e+09</td>\n",
       "      <td>178986.0</td>\n",
       "      <td>382.0</td>\n",
       "      <td>2015</td>\n",
       "      <td>SP</td>\n",
       "      <td>PT</td>\n",
       "      <td>55</td>\n",
       "      <td>3</td>\n",
       "      <td>COMBUSTÍVEIS E LUBRIFICANTES.</td>\n",
       "      <td>...</td>\n",
       "      <td>2018</td>\n",
       "      <td>0</td>\n",
       "      <td>NaN</td>\n",
       "      <td>NaN</td>\n",
       "      <td>1473195</td>\n",
       "      <td>NaN</td>\n",
       "      <td>NaN</td>\n",
       "      <td>3072</td>\n",
       "      <td>6523897</td>\n",
       "      <td>http://camara.leg.br/cota-parlamentar/nota-fis...</td>\n",
       "    </tr>\n",
       "    <tr>\n",
       "      <th>222243</th>\n",
       "      <td>Sergio Vidigal</td>\n",
       "      <td>5.254981e+10</td>\n",
       "      <td>178874.0</td>\n",
       "      <td>283.0</td>\n",
       "      <td>2015</td>\n",
       "      <td>ES</td>\n",
       "      <td>PDT</td>\n",
       "      <td>55</td>\n",
       "      <td>1</td>\n",
       "      <td>MANUTENÇÃO DE ESCRITÓRIO DE APOIO À ATIVIDADE ...</td>\n",
       "      <td>...</td>\n",
       "      <td>2018</td>\n",
       "      <td>0</td>\n",
       "      <td>NaN</td>\n",
       "      <td>NaN</td>\n",
       "      <td>1460377</td>\n",
       "      <td>NaN</td>\n",
       "      <td>NaN</td>\n",
       "      <td>3046</td>\n",
       "      <td>6490271</td>\n",
       "      <td>https://www.camara.leg.br/cota-parlamentar/doc...</td>\n",
       "    </tr>\n",
       "    <tr>\n",
       "      <th>220524</th>\n",
       "      <td>Evair Vieira de Melo</td>\n",
       "      <td>2.261266e+09</td>\n",
       "      <td>178871.0</td>\n",
       "      <td>274.0</td>\n",
       "      <td>2015</td>\n",
       "      <td>ES</td>\n",
       "      <td>PP</td>\n",
       "      <td>55</td>\n",
       "      <td>5</td>\n",
       "      <td>DIVULGAÇÃO DA ATIVIDADE PARLAMENTAR.</td>\n",
       "      <td>...</td>\n",
       "      <td>2018</td>\n",
       "      <td>0</td>\n",
       "      <td>NaN</td>\n",
       "      <td>NaN</td>\n",
       "      <td>1504549</td>\n",
       "      <td>NaN</td>\n",
       "      <td>NaN</td>\n",
       "      <td>2984</td>\n",
       "      <td>6603722</td>\n",
       "      <td>https://www.camara.leg.br/cota-parlamentar/doc...</td>\n",
       "    </tr>\n",
       "  </tbody>\n",
       "</table>\n",
       "<p>10 rows × 31 columns</p>\n",
       "</div>"
      ],
      "text/plain": [
       "           txNomeParlamentar           cpf  ideCadastro  \\\n",
       "180166     Roberto de Lucena  5.781728e+09     160653.0   \n",
       "222038        Helder Salomão  7.680874e+10     178873.0   \n",
       "159739           Zeca Dirceu  3.098872e+09     160592.0   \n",
       "44615            Julio Lopes  5.924522e+10      74253.0   \n",
       "254977         Marcos Soares  5.217857e+09     178943.0   \n",
       "271692          Eduardo Cury  4.909671e+09     178977.0   \n",
       "234226            ZECA DO PT  4.064992e+09     178902.0   \n",
       "278210           Nilto Tatto  3.380917e+09     178986.0   \n",
       "222243        Sergio Vidigal  5.254981e+10     178874.0   \n",
       "220524  Evair Vieira de Melo  2.261266e+09     178871.0   \n",
       "\n",
       "        nuCarteiraParlamentar  nuLegislatura sgUF sgPartido  codLegislatura  \\\n",
       "180166                  385.0           2015   SP      PODE              55   \n",
       "222038                  279.0           2015   ES        PT              55   \n",
       "159739                  468.0           2015   PR        PT              55   \n",
       "44615                   586.0           2015   RJ        PP              55   \n",
       "254977                  574.0           2015   RJ       DEM              55   \n",
       "271692                  353.0           2015   SP      PSDB              55   \n",
       "234226                  440.0           2015   MS        PT              55   \n",
       "278210                  382.0           2015   SP        PT              55   \n",
       "222243                  283.0           2015   ES       PDT              55   \n",
       "220524                  274.0           2015   ES        PP              55   \n",
       "\n",
       "        numSubCota                                       txtDescricao  ...  \\\n",
       "180166          11                                   SERVIÇOS POSTAIS  ...   \n",
       "222038         122          SERVIÇO DE TÁXI, PEDÁGIO E ESTACIONAMENTO  ...   \n",
       "159739          14  HOSPEDAGEM ,EXCETO DO PARLAMENTAR NO DISTRITO ...  ...   \n",
       "44615            3                      COMBUSTÍVEIS E LUBRIFICANTES.  ...   \n",
       "254977           1  MANUTENÇÃO DE ESCRITÓRIO DE APOIO À ATIVIDADE ...  ...   \n",
       "271692           5               DIVULGAÇÃO DA ATIVIDADE PARLAMENTAR.  ...   \n",
       "234226          14  HOSPEDAGEM ,EXCETO DO PARLAMENTAR NO DISTRITO ...  ...   \n",
       "278210           3                      COMBUSTÍVEIS E LUBRIFICANTES.  ...   \n",
       "222243           1  MANUTENÇÃO DE ESCRITÓRIO DE APOIO À ATIVIDADE ...  ...   \n",
       "220524           5               DIVULGAÇÃO DA ATIVIDADE PARLAMENTAR.  ...   \n",
       "\n",
       "        numAno numParcela txtPassageiro txtTrecho  numLote  numRessarcimento  \\\n",
       "180166    2018          0           NaN       NaN        0               0.0   \n",
       "222038    2018          0           NaN       NaN  1537370               NaN   \n",
       "159739    2018          0           NaN       NaN  1540500               NaN   \n",
       "44615     2018          0           NaN       NaN  1466733               NaN   \n",
       "254977    2018          0           NaN       NaN  1496930               NaN   \n",
       "271692    2018          0           NaN       NaN  1544004               NaN   \n",
       "234226    2018          0           NaN       NaN  1464457               NaN   \n",
       "278210    2018          0           NaN       NaN  1473195               NaN   \n",
       "222243    2018          0           NaN       NaN  1460377               NaN   \n",
       "220524    2018          0           NaN       NaN  1504549               NaN   \n",
       "\n",
       "       vlrRestituicao  nuDeputadoId  ideDocumento  \\\n",
       "180166            NaN          2282             0   \n",
       "222038            NaN          2894       6694137   \n",
       "159739            NaN          2238       6702472   \n",
       "44615             NaN          1576       6507503   \n",
       "254977            NaN          2911       6586025   \n",
       "271692            NaN          2982       6711871   \n",
       "234226            NaN          2944       6501388   \n",
       "278210            NaN          3072       6523897   \n",
       "222243            NaN          3046       6490271   \n",
       "220524            NaN          2984       6603722   \n",
       "\n",
       "                                             urlDocumento  \n",
       "180166                                                NaN  \n",
       "222038  https://www.camara.leg.br/cota-parlamentar/doc...  \n",
       "159739  https://www.camara.leg.br/cota-parlamentar/doc...  \n",
       "44615   https://www.camara.leg.br/cota-parlamentar/doc...  \n",
       "254977  https://www.camara.leg.br/cota-parlamentar/doc...  \n",
       "271692  https://www.camara.leg.br/cota-parlamentar/doc...  \n",
       "234226  https://www.camara.leg.br/cota-parlamentar/doc...  \n",
       "278210  http://camara.leg.br/cota-parlamentar/nota-fis...  \n",
       "222243  https://www.camara.leg.br/cota-parlamentar/doc...  \n",
       "220524  https://www.camara.leg.br/cota-parlamentar/doc...  \n",
       "\n",
       "[10 rows x 31 columns]"
      ]
     },
     "execution_count": 16,
     "metadata": {},
     "output_type": "execute_result"
    }
   ],
   "source": [
    "data.sample(10)"
   ]
  },
  {
   "cell_type": "markdown",
   "id": "be0725bb",
   "metadata": {
    "id": "3LhB4RCUVMm7"
   },
   "source": [
    "### Existem registros com `ideDocumento` nulo?"
   ]
  },
  {
   "cell_type": "code",
   "execution_count": 20,
   "id": "bc915fec",
   "metadata": {},
   "outputs": [
    {
     "data": {
      "text/plain": [
       "0"
      ]
     },
     "execution_count": 20,
     "metadata": {},
     "output_type": "execute_result"
    }
   ],
   "source": [
    "data['ideDocumento'].isnull().sum()"
   ]
  },
  {
   "cell_type": "markdown",
   "id": "f048cb6e",
   "metadata": {},
   "source": [
    "### Converta a coluna `datEmissao` para `datetime`, e descubra quantos reembolsos aconteram no primeiro semestre"
   ]
  },
  {
   "cell_type": "code",
   "execution_count": 23,
   "id": "841f51c2",
   "metadata": {},
   "outputs": [],
   "source": [
    "data['datEmissao'] = pd.to_datetime(\n",
    "    data.datEmissao, \n",
    "    format='%Y-%m-%d'\n",
    ") "
   ]
  },
  {
   "cell_type": "code",
   "execution_count": 28,
   "id": "c6244528-091b-4b84-8c71-b32eebfc23fc",
   "metadata": {},
   "outputs": [
    {
     "data": {
      "text/plain": [
       "(159782, 31)"
      ]
     },
     "execution_count": 28,
     "metadata": {},
     "output_type": "execute_result"
    }
   ],
   "source": [
    "data[data['datEmissao']<'2018-07-01'].shape"
   ]
  },
  {
   "cell_type": "markdown",
   "id": "a98577da",
   "metadata": {},
   "source": [
    "### Limpe a coluna `txtCNPJCPF`: ela deve conter somente dígitos numéricos"
   ]
  },
  {
   "cell_type": "code",
   "execution_count": 34,
   "id": "f335418b-c81c-41a4-b7aa-6e3a89f108e8",
   "metadata": {},
   "outputs": [],
   "source": [
    "# vamos trocar qualquer caracter que não seja um dígito número por '', essa operação remove os dígitos\n",
    "data[\"txtCNPJCPF\"] = data[\"txtCNPJCPF\"].str.replace(r'\\D','',regex=True)"
   ]
  },
  {
   "cell_type": "code",
   "execution_count": 35,
   "id": "bdc9a7f4-3c50-4399-800b-490b356aafa8",
   "metadata": {},
   "outputs": [
    {
     "data": {
      "text/plain": [
       "0         04644820000177\n",
       "1         10638597000158\n",
       "2         24882567000105\n",
       "3         24882567000105\n",
       "4         03713903000108\n",
       "               ...      \n",
       "292650    00000000000006\n",
       "292651    00982933000121\n",
       "292652    27402097000115\n",
       "292653    02214932000162\n",
       "292654    02012862000160\n",
       "Name: txtCNPJCPF, Length: 292655, dtype: object"
      ]
     },
     "execution_count": 35,
     "metadata": {},
     "output_type": "execute_result"
    }
   ],
   "source": [
    "data[\"txtCNPJCPF\"]"
   ]
  },
  {
   "cell_type": "markdown",
   "id": "d5592506",
   "metadata": {},
   "source": [
    "### Quais são os valores únicos do campo `indTipoDocumento`? Substitua o conteúdo pela respectiva legenda\n",
    "\n",
    "*Dica*: 0 (Zero), para Nota Fiscal; 1 (um), para Recibo; e 2, para Despesa no Exterior."
   ]
  },
  {
   "cell_type": "code",
   "execution_count": 37,
   "id": "1c9b5dcd",
   "metadata": {},
   "outputs": [
    {
     "data": {
      "text/plain": [
       "array([4, 0, 1, 2, 3])"
      ]
     },
     "execution_count": 37,
     "metadata": {},
     "output_type": "execute_result"
    }
   ],
   "source": [
    "data['indTipoDocumento'].unique()"
   ]
  },
  {
   "cell_type": "code",
   "execution_count": 38,
   "id": "9759c329-f3cd-424c-806e-5d998b44b6ad",
   "metadata": {},
   "outputs": [],
   "source": [
    "legenda = {0:'Nota Fiscal',1:'Recibo',2:'Despesas no Exterior'}"
   ]
  },
  {
   "cell_type": "code",
   "execution_count": 40,
   "id": "75561317-17ac-40a1-b910-8dc41f7b477f",
   "metadata": {},
   "outputs": [],
   "source": [
    "data['indTipoDocumento'].replace(legenda,inplace=True)"
   ]
  },
  {
   "cell_type": "code",
   "execution_count": 41,
   "id": "62c84a47-6cb2-4031-b140-92149ded84ef",
   "metadata": {},
   "outputs": [
    {
     "data": {
      "text/plain": [
       "array([4, 'Nota Fiscal', 'Recibo', 'Despesas no Exterior', 3],\n",
       "      dtype=object)"
      ]
     },
     "execution_count": 41,
     "metadata": {},
     "output_type": "execute_result"
    }
   ],
   "source": [
    "data['indTipoDocumento'].unique()"
   ]
  },
  {
   "cell_type": "code",
   "execution_count": null,
   "id": "cb8f0c10-fb33-45e6-b322-627adf73ae0f",
   "metadata": {},
   "outputs": [],
   "source": []
  }
 ],
 "metadata": {
  "kernelspec": {
   "display_name": "Python 3 (ipykernel)",
   "language": "python",
   "name": "python3"
  },
  "language_info": {
   "codemirror_mode": {
    "name": "ipython",
    "version": 3
   },
   "file_extension": ".py",
   "mimetype": "text/x-python",
   "name": "python",
   "nbconvert_exporter": "python",
   "pygments_lexer": "ipython3",
   "version": "3.8.10"
  },
  "toc": {
   "base_numbering": 1,
   "nav_menu": {},
   "number_sections": true,
   "sideBar": true,
   "skip_h1_title": false,
   "title_cell": "Table of Contents",
   "title_sidebar": "Contents",
   "toc_cell": false,
   "toc_position": {
    "height": "calc(100% - 180px)",
    "left": "10px",
    "top": "150px",
    "width": "165px"
   },
   "toc_section_display": true,
   "toc_window_display": true
  }
 },
 "nbformat": 4,
 "nbformat_minor": 5
}
