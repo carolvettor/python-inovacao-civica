{
 "cells": [
  {
   "cell_type": "markdown",
   "id": "97a2694e",
   "metadata": {},
   "source": [
    "### Dicas\n",
    "\n",
    "*   Antes de ir pro código, leia a descrição do desafio e busque definir pequenos passos para chegar a solução.  \n",
    "*   Leia o código para se familiarizar com a solução que está em desenvolvimento;\n",
    "\n",
    "*  Tente entender o que o código faz ou significa. \n",
    "\n",
    "*  Busque encontrar as partes que faltam ser colocadas e erros no código que precisam ser corrigidos;\n",
    "\n",
    "*  Se aparecer erros, procure corrigir e/ou repita os passos acima.\n",
    "\n",
    "\n",
    "\n",
    "# 1. Desafio: dicionário\n",
    "\n",
    "Utilizando o conhecimento que obtivemos essa semana, utilize o Google Colab ou o Jupyter Notebook  para fazer um programa que consiga responder às seguintes perguntas:\n",
    "\n",
    "1. Quantas pessoas candidatas no estado de Pernambuco seriam mais novas do que você?\n",
    "2. Quantos porcentos isso representa em relação ao total de pessoas candidatas?\n",
    "\n",
    "Dica: Use como referência a coluna \"NR_IDADE_DATA_POSSE\" do conjunto de dados \"consulta_cand_2020_PE_desafio1.csv\"\n",
    "\n",
    "\n",
    "> Fonte: TSE. Repositório de dados eleitorais. Conjunto de dados [Candidatos - 2020](https://www.tse.jus.br/eleicoes/estatisticas/repositorio-de-dados-eleitorais-1)"
   ]
  },
  {
   "cell_type": "markdown",
   "id": "623268b2",
   "metadata": {},
   "source": [
    "### Importe as bibliotecas que usuará no código"
   ]
  },
  {
   "cell_type": "code",
   "execution_count": 2,
   "id": "8908d207-4f1b-4eaf-9178-1e6bdfc8a7e3",
   "metadata": {},
   "outputs": [
    {
     "name": "stdout",
     "output_type": "stream",
     "text": [
      "Collecting pandas\n",
      "  Downloading pandas-1.3.2-cp38-cp38-manylinux_2_17_x86_64.manylinux2014_x86_64.whl (11.5 MB)\n",
      "\u001b[K     |████████████████████████████████| 11.5 MB 4.8 MB/s eta 0:00:01\n",
      "\u001b[?25hRequirement already satisfied: python-dateutil>=2.7.3 in ./venv/lib/python3.8/site-packages (from pandas) (2.8.2)\n",
      "Requirement already satisfied: pytz>=2017.3 in ./venv/lib/python3.8/site-packages (from pandas) (2021.1)\n",
      "Collecting numpy>=1.17.3\n",
      "  Downloading numpy-1.21.2-cp38-cp38-manylinux_2_12_x86_64.manylinux2010_x86_64.whl (15.8 MB)\n",
      "\u001b[K     |████████████████████████████████| 15.8 MB 6.5 MB/s eta 0:00:01     |██████████████████████▎         | 11.0 MB 7.0 MB/s eta 0:00:01     |██████████████████████████▉     | 13.2 MB 6.5 MB/s eta 0:00:01\n",
      "\u001b[?25hRequirement already satisfied: six>=1.5 in ./venv/lib/python3.8/site-packages (from python-dateutil>=2.7.3->pandas) (1.16.0)\n",
      "Installing collected packages: numpy, pandas\n",
      "Successfully installed numpy-1.21.2 pandas-1.3.2\n",
      "Note: you may need to restart the kernel to use updated packages.\n"
     ]
    }
   ],
   "source": [
    "pip install pandas"
   ]
  },
  {
   "cell_type": "code",
   "execution_count": 3,
   "id": "287a13e3",
   "metadata": {},
   "outputs": [],
   "source": [
    "import pandas as pd"
   ]
  },
  {
   "cell_type": "markdown",
   "id": "bfc5092a",
   "metadata": {},
   "source": [
    "### Determine sua idade"
   ]
  },
  {
   "cell_type": "code",
   "execution_count": 4,
   "id": "acb8de62",
   "metadata": {},
   "outputs": [],
   "source": [
    "my_age = 34"
   ]
  },
  {
   "cell_type": "markdown",
   "id": "4ae99d52",
   "metadata": {},
   "source": [
    "### Leia o csv e converta para dicionário"
   ]
  },
  {
   "cell_type": "code",
   "execution_count": 6,
   "id": "ad03e5a6",
   "metadata": {},
   "outputs": [],
   "source": [
    "data = pd.read_csv('base_dados/consulta_cand_2020_PE.csv', sep=';', encoding='latin_1')"
   ]
  },
  {
   "cell_type": "markdown",
   "id": "6dfee1eb",
   "metadata": {},
   "source": [
    "###  Quantas pessoas candidatas no estado de Pernambuco seriam mais novas do que você "
   ]
  },
  {
   "cell_type": "code",
   "execution_count": 12,
   "id": "af79eec9",
   "metadata": {},
   "outputs": [
    {
     "data": {
      "text/plain": [
       "1284"
      ]
     },
     "execution_count": 12,
     "metadata": {},
     "output_type": "execute_result"
    }
   ],
   "source": [
    "column = 'NR_IDADE_DATA_POSSE'\n",
    "condition = data[column] < my_age\n",
    "\n",
    "PE_candidates_younger_than_me = data.loc[condition,column]\n",
    "\n",
    "len(PE_candidates_younger_than_me)"
   ]
  },
  {
   "cell_type": "markdown",
   "id": "68ce6ce5",
   "metadata": {},
   "source": [
    "### Quantos porcentos isso representa em relação ao total de pessoas candidatas."
   ]
  },
  {
   "cell_type": "code",
   "execution_count": 13,
   "id": "336e0593",
   "metadata": {},
   "outputs": [
    {
     "data": {
      "text/plain": [
       "0.06085019667314345"
      ]
     },
     "execution_count": 13,
     "metadata": {},
     "output_type": "execute_result"
    }
   ],
   "source": [
    "len(PE_candidates_younger_than_me)/len(data)"
   ]
  },
  {
   "cell_type": "code",
   "execution_count": 14,
   "id": "1cb04cce-c3dc-4e56-b788-6716649e8a55",
   "metadata": {},
   "outputs": [
    {
     "data": {
      "text/plain": [
       "False"
      ]
     },
     "execution_count": 14,
     "metadata": {},
     "output_type": "execute_result"
    }
   ],
   "source": [
    "(65 != 48) and ('Zona eleitoral' < 'Seção')"
   ]
  },
  {
   "cell_type": "code",
   "execution_count": 15,
   "id": "c4e4d36f-9241-4603-9cb1-bf8ca0ae239d",
   "metadata": {},
   "outputs": [
    {
     "data": {
      "text/plain": [
       "range(0, 3)"
      ]
     },
     "execution_count": 15,
     "metadata": {},
     "output_type": "execute_result"
    }
   ],
   "source": [
    "range(3)"
   ]
  },
  {
   "cell_type": "code",
   "execution_count": null,
   "id": "b5f3b211-93e0-4255-ac23-8fa0b859efe0",
   "metadata": {},
   "outputs": [],
   "source": []
  }
 ],
 "metadata": {
  "kernelspec": {
   "display_name": "Python 3 (ipykernel)",
   "language": "python",
   "name": "python3"
  },
  "language_info": {
   "codemirror_mode": {
    "name": "ipython",
    "version": 3
   },
   "file_extension": ".py",
   "mimetype": "text/x-python",
   "name": "python",
   "nbconvert_exporter": "python",
   "pygments_lexer": "ipython3",
   "version": "3.8.10"
  }
 },
 "nbformat": 4,
 "nbformat_minor": 5
}
