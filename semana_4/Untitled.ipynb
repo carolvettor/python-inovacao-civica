{
 "cells": [
  {
   "cell_type": "code",
   "execution_count": 15,
   "id": "17fee58d-feb9-472f-8a5d-156855342eb8",
   "metadata": {},
   "outputs": [
    {
     "name": "stdout",
     "output_type": "stream",
     "text": [
      "[ 0 ,   1 ,   1 ,   2 ,   3 ,   5 ,   8 ,   1 3 ,   2 1 ,   3 4 ,   5 5 ,   8 9 ,   1 4 4 ,   2 3 3 ,   3 7 7 ,   6 1 0 ,   9 8 7 ,   1 5 9 7 ,   2 5 8 4 ,   4 1 8 1 ]\n"
     ]
    }
   ],
   "source": [
    "n = int(20)\n",
    "fib_list = [0]\n",
    "n = n - 1\n",
    "for i in range(n):\n",
    "    if i > 1:\n",
    "        soma = fib_list[-1]+fib_list[-2]\n",
    "    else:\n",
    "        soma = 1\n",
    "        \n",
    "    fib_list.append(soma)\n",
    "\n",
    "fib_string = ' '.join(str(fib_list))\n",
    "print(fib_string)"
   ]
  },
  {
   "cell_type": "code",
   "execution_count": null,
   "id": "d48b6255-3c27-4719-8429-a17ad8fe0a54",
   "metadata": {},
   "outputs": [],
   "source": []
  }
 ],
 "metadata": {
  "kernelspec": {
   "display_name": "Python 3 (ipykernel)",
   "language": "python",
   "name": "python3"
  },
  "language_info": {
   "codemirror_mode": {
    "name": "ipython",
    "version": 3
   },
   "file_extension": ".py",
   "mimetype": "text/x-python",
   "name": "python",
   "nbconvert_exporter": "python",
   "pygments_lexer": "ipython3",
   "version": "3.8.10"
  }
 },
 "nbformat": 4,
 "nbformat_minor": 5
}
