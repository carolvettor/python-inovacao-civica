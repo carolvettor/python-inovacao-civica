{
 "cells": [
  {
   "cell_type": "markdown",
   "id": "8c47ad97",
   "metadata": {},
   "source": [
    "# Limpeza de dados e estatística descritiva\n",
    "\n",
    "Neste desafio, iremos revisar alguns conceitos vistos nas aulas e ver algumas novidades. Os dados originais são do [repositório de dados eleitorais do Tribunal Superior Eleitoral](https://www.tse.jus.br/eleicoes/estatisticas/repositorio-de-dados-eleitorais-1). \n",
    "\n",
    "O CSV disponibilizado é formado pela conjunção de algumas tabelas do arquivo [orgao_partidario.zip](https://cdn.tse.jus.br/estatistica/sead/odsele/orgao_partidario/orgao_partidario.zip), localizado no menu Partidos > Órgão Partidário.\n",
    "\n",
    "Preencha as lacunas abaixo para completar o desafio."
   ]
  },
  {
   "cell_type": "markdown",
   "id": "6baa7966",
   "metadata": {},
   "source": [
    "# Importe os pacotes necessários"
   ]
  },
  {
   "cell_type": "code",
   "execution_count": 2,
   "id": "5c90126c-a3b1-4863-a53a-9b7d7650a829",
   "metadata": {},
   "outputs": [
    {
     "name": "stdout",
     "output_type": "stream",
     "text": [
      "Collecting pandas\n",
      "  Using cached pandas-1.3.2-cp38-cp38-manylinux_2_17_x86_64.manylinux2014_x86_64.whl (11.5 MB)\n",
      "Collecting numpy>=1.17.3\n",
      "  Using cached numpy-1.21.2-cp38-cp38-manylinux_2_12_x86_64.manylinux2010_x86_64.whl (15.8 MB)\n",
      "Requirement already satisfied: python-dateutil>=2.7.3 in /home/carolvettor/Repos/python-inovacao-civica/venv/lib/python3.8/site-packages (from pandas) (2.8.2)\n",
      "Requirement already satisfied: pytz>=2017.3 in /home/carolvettor/Repos/python-inovacao-civica/venv/lib/python3.8/site-packages (from pandas) (2021.1)\n",
      "Requirement already satisfied: six>=1.5 in /home/carolvettor/Repos/python-inovacao-civica/venv/lib/python3.8/site-packages (from python-dateutil>=2.7.3->pandas) (1.16.0)\n",
      "Installing collected packages: numpy, pandas\n",
      "Successfully installed numpy-1.21.2 pandas-1.3.2\n",
      "Note: you may need to restart the kernel to use updated packages.\n"
     ]
    }
   ],
   "source": [
    "pip install pandas"
   ]
  },
  {
   "cell_type": "code",
   "execution_count": 17,
   "id": "3eb197d8",
   "metadata": {},
   "outputs": [
    {
     "ename": "ModuleNotFoundError",
     "evalue": "No module named 'matplotlib'",
     "output_type": "error",
     "traceback": [
      "\u001b[0;31m---------------------------------------------------------------------------\u001b[0m",
      "\u001b[0;31mModuleNotFoundError\u001b[0m                       Traceback (most recent call last)",
      "\u001b[0;32m/tmp/ipykernel_65845/1956064360.py\u001b[0m in \u001b[0;36m<module>\u001b[0;34m\u001b[0m\n\u001b[1;32m      1\u001b[0m \u001b[0;32mimport\u001b[0m \u001b[0mpandas\u001b[0m \u001b[0;32mas\u001b[0m \u001b[0mpd\u001b[0m\u001b[0;34m\u001b[0m\u001b[0;34m\u001b[0m\u001b[0m\n\u001b[1;32m      2\u001b[0m \u001b[0;32mimport\u001b[0m \u001b[0mnumpy\u001b[0m \u001b[0;32mas\u001b[0m \u001b[0mnp\u001b[0m\u001b[0;34m\u001b[0m\u001b[0;34m\u001b[0m\u001b[0m\n\u001b[0;32m----> 3\u001b[0;31m \u001b[0;32mimport\u001b[0m \u001b[0mmatplotlib\u001b[0m\u001b[0;34m\u001b[0m\u001b[0;34m\u001b[0m\u001b[0m\n\u001b[0m",
      "\u001b[0;31mModuleNotFoundError\u001b[0m: No module named 'matplotlib'"
     ]
    }
   ],
   "source": [
    "import pandas as pd\n",
    "import numpy as np"
   ]
  },
  {
   "cell_type": "markdown",
   "id": "ee9f2214",
   "metadata": {},
   "source": [
    "# Leia o arquivo \"receitas_orgaos_partidarios_2020_NORDESTE.csv\" usando o Pandas\n",
    "\n",
    "Na aula `1.10 - Outliers e valores faltantes`, vimos como utilizar o método `replace` para substituir valores em certos colunas do nosso dataframe e trocar o texto (string) `#NULO#` pela representação padrão do Pandas para valores nulos.\n",
    "\n",
    "Aqui, vamos utilizar um outro método, onde definimos quais strings serão considerados valores nulos já na importação do arquivo.\n",
    "\n",
    "Edite as células abaixo e inclua:\n",
    "\n",
    "* O nome do arquivo que queremos importar\n",
    "* O separador utilizado\n",
    "* Insira uma lista no parâmetro `na_values` que contenha o texto a ser ignorado.\n",
    "\n",
    "Experimente rodar os comandos primeiro sem e depois com o parâmetro `na_values`, então, compare a diferença. Observe, por exemplo, o campo `CD_CNAE_DOADOR`."
   ]
  },
  {
   "cell_type": "code",
   "execution_count": 4,
   "id": "8533df4c",
   "metadata": {},
   "outputs": [
    {
     "name": "stdout",
     "output_type": "stream",
     "text": [
      "<class 'pandas.core.frame.DataFrame'>\n",
      "RangeIndex: 12874 entries, 0 to 12873\n",
      "Data columns (total 48 columns):\n",
      " #   Column                       Non-Null Count  Dtype \n",
      "---  ------                       --------------  ----- \n",
      " 0   DT_GERACAO                   12874 non-null  object\n",
      " 1   HH_GERACAO                   12874 non-null  object\n",
      " 2   ANO_ELEICAO                  12874 non-null  int64 \n",
      " 3   CD_TIPO_ELEICAO              12874 non-null  int64 \n",
      " 4   NM_TIPO_ELEICAO              12874 non-null  object\n",
      " 5   TP_PRESTACAO_CONTAS          12874 non-null  object\n",
      " 6   DT_PRESTACAO_CONTAS          12874 non-null  object\n",
      " 7   SQ_PRESTADOR_CONTAS          12874 non-null  int64 \n",
      " 8   CD_ESFERA_PARTIDARIA         12874 non-null  object\n",
      " 9   DS_ESFERA_PARTIDARIA         12874 non-null  object\n",
      " 10  SG_UF                        12874 non-null  object\n",
      " 11  CD_MUNICIPIO                 12874 non-null  int64 \n",
      " 12  NM_MUNICIPIO                 12874 non-null  object\n",
      " 13  NR_CNPJ_PRESTADOR_CONTA      12874 non-null  int64 \n",
      " 14  NR_PARTIDO                   12874 non-null  int64 \n",
      " 15  SG_PARTIDO                   12874 non-null  object\n",
      " 16  NM_PARTIDO                   12874 non-null  object\n",
      " 17  CD_FONTE_RECEITA             12874 non-null  int64 \n",
      " 18  DS_FONTE_RECEITA             12874 non-null  object\n",
      " 19  CD_ORIGEM_RECEITA            12874 non-null  int64 \n",
      " 20  DS_ORIGEM_RECEITA            12874 non-null  object\n",
      " 21  CD_NATUREZA_RECEITA          12874 non-null  int64 \n",
      " 22  DS_NATUREZA_RECEITA          12874 non-null  object\n",
      " 23  CD_ESPECIE_RECEITA           12874 non-null  int64 \n",
      " 24  DS_ESPECIE_RECEITA           12874 non-null  object\n",
      " 25  CD_CNAE_DOADOR               12874 non-null  int64 \n",
      " 26  DS_CNAE_DOADOR               12874 non-null  object\n",
      " 27  NR_CPF_CNPJ_DOADOR           12874 non-null  int64 \n",
      " 28  NM_DOADOR                    12874 non-null  object\n",
      " 29  NM_DOADOR_RFB                12874 non-null  object\n",
      " 30  CD_ESFERA_PARTIDARIA_DOADOR  12874 non-null  object\n",
      " 31  DS_ESFERA_PARTIDARIA_DOADOR  12874 non-null  object\n",
      " 32  SG_UF_DOADOR                 12874 non-null  object\n",
      " 33  CD_MUNICIPIO_DOADOR          12874 non-null  int64 \n",
      " 34  NM_MUNICIPIO_DOADOR          12874 non-null  object\n",
      " 35  SQ_CANDIDATO_DOADOR          12874 non-null  int64 \n",
      " 36  NR_CANDIDATO_DOADOR          12874 non-null  int64 \n",
      " 37  CD_CARGO_CANDIDATO_DOADOR    12874 non-null  int64 \n",
      " 38  DS_CARGO_CANDIDATO_DOADOR    12874 non-null  object\n",
      " 39  NR_PARTIDO_DOADOR            12874 non-null  int64 \n",
      " 40  SG_PARTIDO_DOADOR            12874 non-null  object\n",
      " 41  NM_PARTIDO_DOADOR            12874 non-null  object\n",
      " 42  NR_RECIBO_DOACAO             12874 non-null  object\n",
      " 43  NR_DOCUMENTO_DOACAO          12874 non-null  object\n",
      " 44  SQ_RECEITA                   12874 non-null  int64 \n",
      " 45  DT_RECEITA                   12874 non-null  object\n",
      " 46  DS_RECEITA                   12874 non-null  object\n",
      " 47  VR_RECEITA                   12874 non-null  int64 \n",
      "dtypes: int64(19), object(29)\n",
      "memory usage: 4.7+ MB\n"
     ]
    }
   ],
   "source": [
    "df = pd.read_csv('receitas_orgaos_partidarios_2020_NORDESTE.csv',sep=';')\n",
    "\n",
    "df.info()"
   ]
  },
  {
   "cell_type": "code",
   "execution_count": 3,
   "id": "6462fe3f",
   "metadata": {},
   "outputs": [
    {
     "name": "stdout",
     "output_type": "stream",
     "text": [
      "<class 'pandas.core.frame.DataFrame'>\n",
      "RangeIndex: 12874 entries, 0 to 12873\n",
      "Data columns (total 48 columns):\n",
      " #   Column                       Non-Null Count  Dtype \n",
      "---  ------                       --------------  ----- \n",
      " 0   DT_GERACAO                   12874 non-null  object\n",
      " 1   HH_GERACAO                   12874 non-null  object\n",
      " 2   ANO_ELEICAO                  12874 non-null  int64 \n",
      " 3   CD_TIPO_ELEICAO              12874 non-null  int64 \n",
      " 4   NM_TIPO_ELEICAO              12874 non-null  object\n",
      " 5   TP_PRESTACAO_CONTAS          12874 non-null  object\n",
      " 6   DT_PRESTACAO_CONTAS          12874 non-null  object\n",
      " 7   SQ_PRESTADOR_CONTAS          12874 non-null  int64 \n",
      " 8   CD_ESFERA_PARTIDARIA         12874 non-null  object\n",
      " 9   DS_ESFERA_PARTIDARIA         12874 non-null  object\n",
      " 10  SG_UF                        12874 non-null  object\n",
      " 11  CD_MUNICIPIO                 12874 non-null  int64 \n",
      " 12  NM_MUNICIPIO                 11606 non-null  object\n",
      " 13  NR_CNPJ_PRESTADOR_CONTA      12874 non-null  int64 \n",
      " 14  NR_PARTIDO                   12874 non-null  int64 \n",
      " 15  SG_PARTIDO                   12874 non-null  object\n",
      " 16  NM_PARTIDO                   12874 non-null  object\n",
      " 17  CD_FONTE_RECEITA             12874 non-null  int64 \n",
      " 18  DS_FONTE_RECEITA             12874 non-null  object\n",
      " 19  CD_ORIGEM_RECEITA            12874 non-null  int64 \n",
      " 20  DS_ORIGEM_RECEITA            12874 non-null  object\n",
      " 21  CD_NATUREZA_RECEITA          12874 non-null  int64 \n",
      " 22  DS_NATUREZA_RECEITA          12874 non-null  object\n",
      " 23  CD_ESPECIE_RECEITA           12874 non-null  int64 \n",
      " 24  DS_ESPECIE_RECEITA           12874 non-null  object\n",
      " 25  CD_CNAE_DOADOR               12874 non-null  int64 \n",
      " 26  DS_CNAE_DOADOR               5977 non-null   object\n",
      " 27  NR_CPF_CNPJ_DOADOR           12874 non-null  int64 \n",
      " 28  NM_DOADOR                    12785 non-null  object\n",
      " 29  NM_DOADOR_RFB                12784 non-null  object\n",
      " 30  CD_ESFERA_PARTIDARIA_DOADOR  3233 non-null   object\n",
      " 31  DS_ESFERA_PARTIDARIA_DOADOR  3233 non-null   object\n",
      " 32  SG_UF_DOADOR                 5976 non-null   object\n",
      " 33  CD_MUNICIPIO_DOADOR          12874 non-null  int64 \n",
      " 34  NM_MUNICIPIO_DOADOR          3162 non-null   object\n",
      " 35  SQ_CANDIDATO_DOADOR          12874 non-null  int64 \n",
      " 36  NR_CANDIDATO_DOADOR          12874 non-null  int64 \n",
      " 37  CD_CARGO_CANDIDATO_DOADOR    12874 non-null  int64 \n",
      " 38  DS_CARGO_CANDIDATO_DOADOR    2743 non-null   object\n",
      " 39  NR_PARTIDO_DOADOR            12874 non-null  int64 \n",
      " 40  SG_PARTIDO_DOADOR            5976 non-null   object\n",
      " 41  NM_PARTIDO_DOADOR            5976 non-null   object\n",
      " 42  NR_RECIBO_DOACAO             10955 non-null  object\n",
      " 43  NR_DOCUMENTO_DOACAO          9020 non-null   object\n",
      " 44  SQ_RECEITA                   12874 non-null  int64 \n",
      " 45  DT_RECEITA                   12874 non-null  object\n",
      " 46  DS_RECEITA                   3301 non-null   object\n",
      " 47  VR_RECEITA                   12874 non-null  int64 \n",
      "dtypes: int64(19), object(29)\n",
      "memory usage: 4.7+ MB\n"
     ]
    }
   ],
   "source": [
    "df = pd.read_csv('receitas_orgaos_partidarios_2020_NORDESTE.csv',sep=';',na_values='#NULO#', )\n",
    "\n",
    "df.info()"
   ]
  },
  {
   "cell_type": "markdown",
   "id": "3d2322a9",
   "metadata": {},
   "source": [
    "# Filtre apenas os registros que sejam da prestação de contas final\n"
   ]
  },
  {
   "cell_type": "code",
   "execution_count": 4,
   "id": "15872c1a",
   "metadata": {},
   "outputs": [
    {
     "data": {
      "text/plain": [
       "array(['Final', 'Relatório Financeiro', 'Parcial',\n",
       "       'Regularização da Omissão'], dtype=object)"
      ]
     },
     "execution_count": 4,
     "metadata": {},
     "output_type": "execute_result"
    }
   ],
   "source": [
    "# Primeiro vamos ver os valores únicos da coluna TP_PRESTACAO_CONTAS\n",
    "\n",
    "df['TP_PRESTACAO_CONTAS'].unique()"
   ]
  },
  {
   "cell_type": "code",
   "execution_count": 5,
   "id": "9bb5b939",
   "metadata": {},
   "outputs": [
    {
     "data": {
      "text/plain": [
       "(12874, 48)"
      ]
     },
     "execution_count": 5,
     "metadata": {},
     "output_type": "execute_result"
    }
   ],
   "source": [
    "# O resultado deste comando nos diz que quantas linhas e colunas temos antes do filtro\n",
    "df.shape"
   ]
  },
  {
   "cell_type": "code",
   "execution_count": 6,
   "id": "f6ae5fb1",
   "metadata": {},
   "outputs": [],
   "source": [
    "# Preencha o campo os espaços abaixo com o nome da coluna e o valor desejado para nosso filtro\n",
    "df_final = df[df['TP_PRESTACAO_CONTAS'] == 'Final'].copy()"
   ]
  },
  {
   "cell_type": "code",
   "execution_count": 7,
   "id": "69af6082",
   "metadata": {},
   "outputs": [
    {
     "data": {
      "text/plain": [
       "(12288, 48)"
      ]
     },
     "execution_count": 7,
     "metadata": {},
     "output_type": "execute_result"
    }
   ],
   "source": [
    "# Rode o comando shape no novo dataframe criado e confira se o número de linhas foi reduzido\n",
    "\n",
    "df_final.shape"
   ]
  },
  {
   "cell_type": "markdown",
   "id": "0227ef85",
   "metadata": {},
   "source": [
    "## Qual foi a maior doação de pessoa física e pessoa jurídica em cada estado?\n",
    "\n",
    "Vamos usar o método `value_counts` para não só listar cada valor único da coluna `CD_CNAE_DOADOR`, como também mostrar quantos registros temos em cada um."
   ]
  },
  {
   "cell_type": "code",
   "execution_count": 8,
   "id": "6ad6b6d1",
   "metadata": {},
   "outputs": [
    {
     "data": {
      "text/plain": [
       "-1        6509\n",
       " 94928    5735\n",
       " 94308      37\n",
       " 14126       3\n",
       " 62023       1\n",
       " 17311       1\n",
       " 84116       1\n",
       " 94995       1\n",
       "Name: CD_CNAE_DOADOR, dtype: int64"
      ]
     },
     "execution_count": 8,
     "metadata": {},
     "output_type": "execute_result"
    }
   ],
   "source": [
    "# Preencha o nome da coluna abaixo\n",
    "df_final['CD_CNAE_DOADOR'].value_counts()"
   ]
  },
  {
   "cell_type": "code",
   "execution_count": 9,
   "id": "a14248a0",
   "metadata": {},
   "outputs": [
    {
     "data": {
      "text/plain": [
       "-1        0.529704\n",
       " 94928    0.466715\n",
       " 94308    0.003011\n",
       " 14126    0.000244\n",
       " 62023    0.000081\n",
       " 17311    0.000081\n",
       " 84116    0.000081\n",
       " 94995    0.000081\n",
       "Name: CD_CNAE_DOADOR, dtype: float64"
      ]
     },
     "execution_count": 9,
     "metadata": {},
     "output_type": "execute_result"
    }
   ],
   "source": [
    "# Para ver os resultados em percentuais é fácil! Basta falarmos para o value_counts que queremos os resultados normalizados\n",
    "df_final['CD_CNAE_DOADOR'].value_counts(normalize=True)"
   ]
  },
  {
   "cell_type": "markdown",
   "id": "bf48b537",
   "metadata": {},
   "source": [
    "Se o doador for pessoa jurídica, temos seu respectivo código CNAE. Se for pessoa física, então temos o valor `-1`. \n",
    "\n",
    "Qual conclusão podemos tirar a respeito dos comandos acima?\n",
    "\n",
    "Escreva um **comentário** na célula abaixo com a resposta."
   ]
  },
  {
   "cell_type": "code",
   "execution_count": 11,
   "id": "92bd2faf",
   "metadata": {},
   "outputs": [],
   "source": [
    "# Mais da metade dos registros são de pessoas físicas."
   ]
  },
  {
   "cell_type": "markdown",
   "id": "f5f94f46",
   "metadata": {},
   "source": [
    "Agora, vamos duplicar a coluna `CD_CNAE_DOADOR` e deixar esta nova coluna apenas com 2 categorias: física (representada pelo valor -1) ou jurídica (que vamos representar inicialmente com 1)."
   ]
  },
  {
   "cell_type": "code",
   "execution_count": 10,
   "id": "fbe0c910",
   "metadata": {},
   "outputs": [],
   "source": [
    "# Vamos criar uma nova coluna que seja uma cópia exata da coluna CD_CNAE_DOADOR\n",
    "df_final['TIPO_DOADOR'] = df_final.loc[:,'CD_CNAE_DOADOR']\n"
   ]
  },
  {
   "cell_type": "markdown",
   "id": "cf427b40",
   "metadata": {},
   "source": [
    "## Substituição condicional (conditional replacing)\n",
    "\n",
    "Agora, vamos usar o método where do pacote NumPy (carinhosamente chamado de np abaixo).\n",
    "\n",
    "Esta função recebe três parâmetros:\n",
    "\n",
    "* Uma condição: no nosso caso, queremos que filtrar as coluna do CNAE onde os valores sejam -1\n",
    "* Um valor: caso a condição acima seja verdadeira, qual valor deverá ser retornado?\n",
    "* Outro valor: se a condição for falsa, então, qual outro valor deverá ser retornado?\n"
   ]
  },
  {
   "cell_type": "code",
   "execution_count": 11,
   "id": "7918e252",
   "metadata": {},
   "outputs": [],
   "source": [
    "df_final['TIPO_DOADOR'] = np.where(df_final['CD_CNAE_DOADOR']==-1, 'fisica', 'juridica')"
   ]
  },
  {
   "cell_type": "code",
   "execution_count": 14,
   "id": "ada88162-09dc-43d0-ab13-32697bb8cfad",
   "metadata": {},
   "outputs": [
    {
     "data": {
      "text/html": [
       "<div>\n",
       "<style scoped>\n",
       "    .dataframe tbody tr th:only-of-type {\n",
       "        vertical-align: middle;\n",
       "    }\n",
       "\n",
       "    .dataframe tbody tr th {\n",
       "        vertical-align: top;\n",
       "    }\n",
       "\n",
       "    .dataframe thead th {\n",
       "        text-align: right;\n",
       "    }\n",
       "</style>\n",
       "<table border=\"1\" class=\"dataframe\">\n",
       "  <thead>\n",
       "    <tr style=\"text-align: right;\">\n",
       "      <th></th>\n",
       "      <th>DT_GERACAO</th>\n",
       "      <th>HH_GERACAO</th>\n",
       "      <th>ANO_ELEICAO</th>\n",
       "      <th>CD_TIPO_ELEICAO</th>\n",
       "      <th>NM_TIPO_ELEICAO</th>\n",
       "      <th>TP_PRESTACAO_CONTAS</th>\n",
       "      <th>DT_PRESTACAO_CONTAS</th>\n",
       "      <th>SQ_PRESTADOR_CONTAS</th>\n",
       "      <th>CD_ESFERA_PARTIDARIA</th>\n",
       "      <th>DS_ESFERA_PARTIDARIA</th>\n",
       "      <th>...</th>\n",
       "      <th>NR_PARTIDO_DOADOR</th>\n",
       "      <th>SG_PARTIDO_DOADOR</th>\n",
       "      <th>NM_PARTIDO_DOADOR</th>\n",
       "      <th>NR_RECIBO_DOACAO</th>\n",
       "      <th>NR_DOCUMENTO_DOACAO</th>\n",
       "      <th>SQ_RECEITA</th>\n",
       "      <th>DT_RECEITA</th>\n",
       "      <th>DS_RECEITA</th>\n",
       "      <th>VR_RECEITA</th>\n",
       "      <th>TIPO_DOADOR</th>\n",
       "    </tr>\n",
       "  </thead>\n",
       "  <tbody>\n",
       "    <tr>\n",
       "      <th>0</th>\n",
       "      <td>22/07/2021</td>\n",
       "      <td>23:25:00</td>\n",
       "      <td>2020</td>\n",
       "      <td>2</td>\n",
       "      <td>Ordinária</td>\n",
       "      <td>Final</td>\n",
       "      <td>14/12/2020</td>\n",
       "      <td>1220401248</td>\n",
       "      <td>M</td>\n",
       "      <td>Municipal</td>\n",
       "      <td>...</td>\n",
       "      <td>-1</td>\n",
       "      <td>NaN</td>\n",
       "      <td>NaN</td>\n",
       "      <td>P15000411452PI000005A</td>\n",
       "      <td>NaN</td>\n",
       "      <td>18729827</td>\n",
       "      <td>29/09/2020</td>\n",
       "      <td>LOC. DE IMOVEL P/ FUNCION. DE COMITE ELEITORAL...</td>\n",
       "      <td>1500</td>\n",
       "      <td>fisica</td>\n",
       "    </tr>\n",
       "    <tr>\n",
       "      <th>1</th>\n",
       "      <td>22/07/2021</td>\n",
       "      <td>23:25:00</td>\n",
       "      <td>2020</td>\n",
       "      <td>2</td>\n",
       "      <td>Ordinária</td>\n",
       "      <td>Final</td>\n",
       "      <td>08/03/2021</td>\n",
       "      <td>1364490302</td>\n",
       "      <td>M</td>\n",
       "      <td>Municipal</td>\n",
       "      <td>...</td>\n",
       "      <td>-1</td>\n",
       "      <td>NaN</td>\n",
       "      <td>NaN</td>\n",
       "      <td>P15000412165PI000002A</td>\n",
       "      <td>NaN</td>\n",
       "      <td>19789208</td>\n",
       "      <td>27/09/2020</td>\n",
       "      <td>CESSÃO DE SERVIÇOS DE ASSESSORIA E CONSULTORIA...</td>\n",
       "      <td>1500</td>\n",
       "      <td>fisica</td>\n",
       "    </tr>\n",
       "    <tr>\n",
       "      <th>2</th>\n",
       "      <td>22/07/2021</td>\n",
       "      <td>23:25:00</td>\n",
       "      <td>2020</td>\n",
       "      <td>2</td>\n",
       "      <td>Ordinária</td>\n",
       "      <td>Final</td>\n",
       "      <td>15/12/2020</td>\n",
       "      <td>1220405469</td>\n",
       "      <td>M</td>\n",
       "      <td>Municipal</td>\n",
       "      <td>...</td>\n",
       "      <td>40</td>\n",
       "      <td>PSB</td>\n",
       "      <td>Partido Socialista Brasileiro</td>\n",
       "      <td>P17000412661PI000004A</td>\n",
       "      <td>001</td>\n",
       "      <td>19413470</td>\n",
       "      <td>08/12/2020</td>\n",
       "      <td>NaN</td>\n",
       "      <td>2</td>\n",
       "      <td>juridica</td>\n",
       "    </tr>\n",
       "    <tr>\n",
       "      <th>3</th>\n",
       "      <td>22/07/2021</td>\n",
       "      <td>23:25:00</td>\n",
       "      <td>2020</td>\n",
       "      <td>2</td>\n",
       "      <td>Ordinária</td>\n",
       "      <td>Final</td>\n",
       "      <td>15/12/2020</td>\n",
       "      <td>1220405469</td>\n",
       "      <td>M</td>\n",
       "      <td>Municipal</td>\n",
       "      <td>...</td>\n",
       "      <td>40</td>\n",
       "      <td>PSB</td>\n",
       "      <td>Partido Socialista Brasileiro</td>\n",
       "      <td>P17000412661PI000001A</td>\n",
       "      <td>850020</td>\n",
       "      <td>19413467</td>\n",
       "      <td>21/10/2020</td>\n",
       "      <td>NaN</td>\n",
       "      <td>14000</td>\n",
       "      <td>juridica</td>\n",
       "    </tr>\n",
       "    <tr>\n",
       "      <th>4</th>\n",
       "      <td>22/07/2021</td>\n",
       "      <td>23:25:00</td>\n",
       "      <td>2020</td>\n",
       "      <td>2</td>\n",
       "      <td>Ordinária</td>\n",
       "      <td>Final</td>\n",
       "      <td>15/12/2020</td>\n",
       "      <td>1220405081</td>\n",
       "      <td>M</td>\n",
       "      <td>Municipal</td>\n",
       "      <td>...</td>\n",
       "      <td>40</td>\n",
       "      <td>PSB</td>\n",
       "      <td>Partido Socialista Brasileiro</td>\n",
       "      <td>P40000412564PI000001A</td>\n",
       "      <td>850007</td>\n",
       "      <td>19352758</td>\n",
       "      <td>09/10/2020</td>\n",
       "      <td>NaN</td>\n",
       "      <td>28000</td>\n",
       "      <td>juridica</td>\n",
       "    </tr>\n",
       "  </tbody>\n",
       "</table>\n",
       "<p>5 rows × 49 columns</p>\n",
       "</div>"
      ],
      "text/plain": [
       "   DT_GERACAO HH_GERACAO  ANO_ELEICAO  CD_TIPO_ELEICAO NM_TIPO_ELEICAO  \\\n",
       "0  22/07/2021   23:25:00         2020                2       Ordinária   \n",
       "1  22/07/2021   23:25:00         2020                2       Ordinária   \n",
       "2  22/07/2021   23:25:00         2020                2       Ordinária   \n",
       "3  22/07/2021   23:25:00         2020                2       Ordinária   \n",
       "4  22/07/2021   23:25:00         2020                2       Ordinária   \n",
       "\n",
       "  TP_PRESTACAO_CONTAS DT_PRESTACAO_CONTAS  SQ_PRESTADOR_CONTAS  \\\n",
       "0               Final          14/12/2020           1220401248   \n",
       "1               Final          08/03/2021           1364490302   \n",
       "2               Final          15/12/2020           1220405469   \n",
       "3               Final          15/12/2020           1220405469   \n",
       "4               Final          15/12/2020           1220405081   \n",
       "\n",
       "  CD_ESFERA_PARTIDARIA DS_ESFERA_PARTIDARIA  ... NR_PARTIDO_DOADOR  \\\n",
       "0                    M            Municipal  ...                -1   \n",
       "1                    M            Municipal  ...                -1   \n",
       "2                    M            Municipal  ...                40   \n",
       "3                    M            Municipal  ...                40   \n",
       "4                    M            Municipal  ...                40   \n",
       "\n",
       "   SG_PARTIDO_DOADOR              NM_PARTIDO_DOADOR       NR_RECIBO_DOACAO  \\\n",
       "0                NaN                            NaN  P15000411452PI000005A   \n",
       "1                NaN                            NaN  P15000412165PI000002A   \n",
       "2                PSB  Partido Socialista Brasileiro  P17000412661PI000004A   \n",
       "3                PSB  Partido Socialista Brasileiro  P17000412661PI000001A   \n",
       "4                PSB  Partido Socialista Brasileiro  P40000412564PI000001A   \n",
       "\n",
       "   NR_DOCUMENTO_DOACAO SQ_RECEITA  DT_RECEITA  \\\n",
       "0                  NaN   18729827  29/09/2020   \n",
       "1                  NaN   19789208  27/09/2020   \n",
       "2                  001   19413470  08/12/2020   \n",
       "3               850020   19413467  21/10/2020   \n",
       "4               850007   19352758  09/10/2020   \n",
       "\n",
       "                                          DS_RECEITA VR_RECEITA  TIPO_DOADOR  \n",
       "0  LOC. DE IMOVEL P/ FUNCION. DE COMITE ELEITORAL...       1500       fisica  \n",
       "1  CESSÃO DE SERVIÇOS DE ASSESSORIA E CONSULTORIA...       1500       fisica  \n",
       "2                                                NaN          2     juridica  \n",
       "3                                                NaN      14000     juridica  \n",
       "4                                                NaN      28000     juridica  \n",
       "\n",
       "[5 rows x 49 columns]"
      ]
     },
     "execution_count": 14,
     "metadata": {},
     "output_type": "execute_result"
    }
   ],
   "source": [
    "df_final.head()\n"
   ]
  },
  {
   "cell_type": "markdown",
   "id": "6c0184e5",
   "metadata": {},
   "source": [
    "## Agrupando (group by)"
   ]
  },
  {
   "cell_type": "code",
   "execution_count": 12,
   "id": "180794a8",
   "metadata": {},
   "outputs": [
    {
     "data": {
      "text/html": [
       "<div>\n",
       "<style scoped>\n",
       "    .dataframe tbody tr th:only-of-type {\n",
       "        vertical-align: middle;\n",
       "    }\n",
       "\n",
       "    .dataframe tbody tr th {\n",
       "        vertical-align: top;\n",
       "    }\n",
       "\n",
       "    .dataframe thead th {\n",
       "        text-align: right;\n",
       "    }\n",
       "</style>\n",
       "<table border=\"1\" class=\"dataframe\">\n",
       "  <thead>\n",
       "    <tr style=\"text-align: right;\">\n",
       "      <th></th>\n",
       "      <th></th>\n",
       "      <th>VR_RECEITA</th>\n",
       "    </tr>\n",
       "    <tr>\n",
       "      <th>TIPO_DOADOR</th>\n",
       "      <th>SG_UF</th>\n",
       "      <th></th>\n",
       "    </tr>\n",
       "  </thead>\n",
       "  <tbody>\n",
       "    <tr>\n",
       "      <th rowspan=\"9\" valign=\"top\">fisica</th>\n",
       "      <th>AL</th>\n",
       "      <td>17665</td>\n",
       "    </tr>\n",
       "    <tr>\n",
       "      <th>BA</th>\n",
       "      <td>200000</td>\n",
       "    </tr>\n",
       "    <tr>\n",
       "      <th>CE</th>\n",
       "      <td>200000</td>\n",
       "    </tr>\n",
       "    <tr>\n",
       "      <th>MA</th>\n",
       "      <td>100000</td>\n",
       "    </tr>\n",
       "    <tr>\n",
       "      <th>PB</th>\n",
       "      <td>23000</td>\n",
       "    </tr>\n",
       "    <tr>\n",
       "      <th>PE</th>\n",
       "      <td>150000</td>\n",
       "    </tr>\n",
       "    <tr>\n",
       "      <th>PI</th>\n",
       "      <td>23708</td>\n",
       "    </tr>\n",
       "    <tr>\n",
       "      <th>RN</th>\n",
       "      <td>25000</td>\n",
       "    </tr>\n",
       "    <tr>\n",
       "      <th>SE</th>\n",
       "      <td>31000</td>\n",
       "    </tr>\n",
       "    <tr>\n",
       "      <th rowspan=\"9\" valign=\"top\">juridica</th>\n",
       "      <th>AL</th>\n",
       "      <td>3900000</td>\n",
       "    </tr>\n",
       "    <tr>\n",
       "      <th>BA</th>\n",
       "      <td>11900000</td>\n",
       "    </tr>\n",
       "    <tr>\n",
       "      <th>CE</th>\n",
       "      <td>3900000</td>\n",
       "    </tr>\n",
       "    <tr>\n",
       "      <th>MA</th>\n",
       "      <td>3900000</td>\n",
       "    </tr>\n",
       "    <tr>\n",
       "      <th>PB</th>\n",
       "      <td>2169395</td>\n",
       "    </tr>\n",
       "    <tr>\n",
       "      <th>PE</th>\n",
       "      <td>4998000</td>\n",
       "    </tr>\n",
       "    <tr>\n",
       "      <th>PI</th>\n",
       "      <td>3900000</td>\n",
       "    </tr>\n",
       "    <tr>\n",
       "      <th>RN</th>\n",
       "      <td>3900000</td>\n",
       "    </tr>\n",
       "    <tr>\n",
       "      <th>SE</th>\n",
       "      <td>4000000</td>\n",
       "    </tr>\n",
       "  </tbody>\n",
       "</table>\n",
       "</div>"
      ],
      "text/plain": [
       "                   VR_RECEITA\n",
       "TIPO_DOADOR SG_UF            \n",
       "fisica      AL          17665\n",
       "            BA         200000\n",
       "            CE         200000\n",
       "            MA         100000\n",
       "            PB          23000\n",
       "            PE         150000\n",
       "            PI          23708\n",
       "            RN          25000\n",
       "            SE          31000\n",
       "juridica    AL        3900000\n",
       "            BA       11900000\n",
       "            CE        3900000\n",
       "            MA        3900000\n",
       "            PB        2169395\n",
       "            PE        4998000\n",
       "            PI        3900000\n",
       "            RN        3900000\n",
       "            SE        4000000"
      ]
     },
     "execution_count": 12,
     "metadata": {},
     "output_type": "execute_result"
    }
   ],
   "source": [
    "# Preencha abaixo primeiro uma lista com as 3 colunas que precisamos utilizar para responder à pergunta. E depois o nome das 2 colunas que precisamos agrupar.\n",
    "\n",
    "df_final[['TIPO_DOADOR','SG_UF','VR_RECEITA']].groupby(by=['TIPO_DOADOR','SG_UF']).max()"
   ]
  },
  {
   "cell_type": "code",
   "execution_count": 13,
   "id": "5d3e9a7d",
   "metadata": {},
   "outputs": [
    {
     "data": {
      "text/html": [
       "<div>\n",
       "<style scoped>\n",
       "    .dataframe tbody tr th:only-of-type {\n",
       "        vertical-align: middle;\n",
       "    }\n",
       "\n",
       "    .dataframe tbody tr th {\n",
       "        vertical-align: top;\n",
       "    }\n",
       "\n",
       "    .dataframe thead th {\n",
       "        text-align: right;\n",
       "    }\n",
       "</style>\n",
       "<table border=\"1\" class=\"dataframe\">\n",
       "  <thead>\n",
       "    <tr style=\"text-align: right;\">\n",
       "      <th></th>\n",
       "      <th>TIPO_DOADOR</th>\n",
       "      <th>VR_RECEITA</th>\n",
       "      <th>SG_UF</th>\n",
       "    </tr>\n",
       "  </thead>\n",
       "  <tbody>\n",
       "    <tr>\n",
       "      <th>0</th>\n",
       "      <td>fisica</td>\n",
       "      <td>0</td>\n",
       "      <td>AL</td>\n",
       "    </tr>\n",
       "    <tr>\n",
       "      <th>1</th>\n",
       "      <td>fisica</td>\n",
       "      <td>0</td>\n",
       "      <td>BA</td>\n",
       "    </tr>\n",
       "    <tr>\n",
       "      <th>2</th>\n",
       "      <td>fisica</td>\n",
       "      <td>0</td>\n",
       "      <td>CE</td>\n",
       "    </tr>\n",
       "    <tr>\n",
       "      <th>3</th>\n",
       "      <td>fisica</td>\n",
       "      <td>0</td>\n",
       "      <td>MA</td>\n",
       "    </tr>\n",
       "    <tr>\n",
       "      <th>4</th>\n",
       "      <td>fisica</td>\n",
       "      <td>0</td>\n",
       "      <td>PE</td>\n",
       "    </tr>\n",
       "    <tr>\n",
       "      <th>...</th>\n",
       "      <td>...</td>\n",
       "      <td>...</td>\n",
       "      <td>...</td>\n",
       "    </tr>\n",
       "    <tr>\n",
       "      <th>3899</th>\n",
       "      <td>juridica</td>\n",
       "      <td>4000000</td>\n",
       "      <td>SE</td>\n",
       "    </tr>\n",
       "    <tr>\n",
       "      <th>3900</th>\n",
       "      <td>juridica</td>\n",
       "      <td>4416373</td>\n",
       "      <td>PE</td>\n",
       "    </tr>\n",
       "    <tr>\n",
       "      <th>3901</th>\n",
       "      <td>juridica</td>\n",
       "      <td>4550000</td>\n",
       "      <td>BA</td>\n",
       "    </tr>\n",
       "    <tr>\n",
       "      <th>3902</th>\n",
       "      <td>juridica</td>\n",
       "      <td>4998000</td>\n",
       "      <td>PE</td>\n",
       "    </tr>\n",
       "    <tr>\n",
       "      <th>3903</th>\n",
       "      <td>juridica</td>\n",
       "      <td>11900000</td>\n",
       "      <td>BA</td>\n",
       "    </tr>\n",
       "  </tbody>\n",
       "</table>\n",
       "<p>3904 rows × 3 columns</p>\n",
       "</div>"
      ],
      "text/plain": [
       "     TIPO_DOADOR  VR_RECEITA SG_UF\n",
       "0         fisica           0    AL\n",
       "1         fisica           0    BA\n",
       "2         fisica           0    CE\n",
       "3         fisica           0    MA\n",
       "4         fisica           0    PE\n",
       "...          ...         ...   ...\n",
       "3899    juridica     4000000    SE\n",
       "3900    juridica     4416373    PE\n",
       "3901    juridica     4550000    BA\n",
       "3902    juridica     4998000    PE\n",
       "3903    juridica    11900000    BA\n",
       "\n",
       "[3904 rows x 3 columns]"
      ]
     },
     "execution_count": 13,
     "metadata": {},
     "output_type": "execute_result"
    }
   ],
   "source": [
    "# Para repetir o valor da coluna TIPO_DOADOR nas linhas, coloque o parâmetro as_index=False no método groupby do comando acima\n",
    "\n",
    "df_final[['TIPO_DOADOR','SG_UF','VR_RECEITA']].groupby(by=['TIPO_DOADOR','VR_RECEITA','SG_UF'], as_index=False).max()"
   ]
  },
  {
   "cell_type": "markdown",
   "id": "47388c46",
   "metadata": {},
   "source": [
    "## Qual é o top 10?\n",
    "\n",
    "Crie um novo dataframe com os 10 partidos com mais doações. Você precisa primeiro ordenar os resultados e depois selecionar apenas os 10 primeiros.\n",
    "\n"
   ]
  },
  {
   "cell_type": "code",
   "execution_count": 15,
   "id": "5ea153b2",
   "metadata": {},
   "outputs": [
    {
     "data": {
      "text/html": [
       "<div>\n",
       "<style scoped>\n",
       "    .dataframe tbody tr th:only-of-type {\n",
       "        vertical-align: middle;\n",
       "    }\n",
       "\n",
       "    .dataframe tbody tr th {\n",
       "        vertical-align: top;\n",
       "    }\n",
       "\n",
       "    .dataframe thead th {\n",
       "        text-align: right;\n",
       "    }\n",
       "</style>\n",
       "<table border=\"1\" class=\"dataframe\">\n",
       "  <thead>\n",
       "    <tr style=\"text-align: right;\">\n",
       "      <th></th>\n",
       "      <th></th>\n",
       "      <th>VR_RECEITA</th>\n",
       "    </tr>\n",
       "    <tr>\n",
       "      <th>SG_PARTIDO</th>\n",
       "      <th>NM_PARTIDO</th>\n",
       "      <th></th>\n",
       "    </tr>\n",
       "  </thead>\n",
       "  <tbody>\n",
       "    <tr>\n",
       "      <th>PSD</th>\n",
       "      <th>Partido Social Democrático</th>\n",
       "      <td>55485632</td>\n",
       "    </tr>\n",
       "    <tr>\n",
       "      <th>PP</th>\n",
       "      <th>PROGRESSISTAS</th>\n",
       "      <td>50241447</td>\n",
       "    </tr>\n",
       "    <tr>\n",
       "      <th>PT</th>\n",
       "      <th>Partido dos Trabalhadores</th>\n",
       "      <td>43423701</td>\n",
       "    </tr>\n",
       "    <tr>\n",
       "      <th>MDB</th>\n",
       "      <th>Movimento Democrático Brasileiro</th>\n",
       "      <td>39185338</td>\n",
       "    </tr>\n",
       "    <tr>\n",
       "      <th>PSB</th>\n",
       "      <th>Partido Socialista Brasileiro</th>\n",
       "      <td>38124175</td>\n",
       "    </tr>\n",
       "    <tr>\n",
       "      <th>PSL</th>\n",
       "      <th>Partido Social Liberal</th>\n",
       "      <td>32500228</td>\n",
       "    </tr>\n",
       "    <tr>\n",
       "      <th>PODE</th>\n",
       "      <th>Podemos</th>\n",
       "      <td>15425546</td>\n",
       "    </tr>\n",
       "    <tr>\n",
       "      <th>PTB</th>\n",
       "      <th>Partido Trabalhista Brasileiro</th>\n",
       "      <td>13536876</td>\n",
       "    </tr>\n",
       "    <tr>\n",
       "      <th>PDT</th>\n",
       "      <th>Partido Democrático Trabalhista</th>\n",
       "      <td>13420365</td>\n",
       "    </tr>\n",
       "    <tr>\n",
       "      <th>SOLIDARIEDADE</th>\n",
       "      <th>Solidariedade</th>\n",
       "      <td>13144797</td>\n",
       "    </tr>\n",
       "  </tbody>\n",
       "</table>\n",
       "</div>"
      ],
      "text/plain": [
       "                                                VR_RECEITA\n",
       "SG_PARTIDO    NM_PARTIDO                                  \n",
       "PSD           Partido Social Democrático          55485632\n",
       "PP            PROGRESSISTAS                       50241447\n",
       "PT            Partido dos Trabalhadores           43423701\n",
       "MDB           Movimento Democrático Brasileiro    39185338\n",
       "PSB           Partido Socialista Brasileiro       38124175\n",
       "PSL           Partido Social Liberal              32500228\n",
       "PODE          Podemos                             15425546\n",
       "PTB           Partido Trabalhista Brasileiro      13536876\n",
       "PDT           Partido Democrático Trabalhista     13420365\n",
       "SOLIDARIEDADE Solidariedade                       13144797"
      ]
     },
     "execution_count": 15,
     "metadata": {},
     "output_type": "execute_result"
    }
   ],
   "source": [
    "top_10 = df_final[['SG_PARTIDO','NM_PARTIDO','VR_RECEITA']].groupby(by=['SG_PARTIDO','NM_PARTIDO']).sum().sort_values(by='VR_RECEITA',ascending=False).head(10)\n",
    "top_10"
   ]
  },
  {
   "cell_type": "markdown",
   "id": "c7d813fa",
   "metadata": {},
   "source": [
    "# Vamos visualizar os resultados?\n",
    "Na aula, nós vimos como usar o matplotlib para gerar gráficos. Agora, vamos descobrir uma nova forma de fazer o mesmo usando um método nativo Pandas. Experimente colocar `.plot(kind='barh')` após a consulta ou dataframe anterior.\n",
    "\n",
    "Com este comando, podemos produzir um gráfico (plot) do tipo (kind) de barras horizontais (barh)."
   ]
  },
  {
   "cell_type": "code",
   "execution_count": 19,
   "id": "187e14dc-7fce-49c7-ba54-0c2054122272",
   "metadata": {},
   "outputs": [
    {
     "name": "stdout",
     "output_type": "stream",
     "text": [
      "Collecting matplotlib\n",
      "  Using cached matplotlib-3.4.3-cp38-cp38-manylinux1_x86_64.whl (10.3 MB)\n",
      "Requirement already satisfied: pyparsing>=2.2.1 in /home/carolvettor/Repos/python-inovacao-civica/venv/lib/python3.8/site-packages (from matplotlib) (2.4.7)\n",
      "Collecting pillow>=6.2.0\n",
      "  Using cached Pillow-8.3.1-cp38-cp38-manylinux_2_5_x86_64.manylinux1_x86_64.whl (3.0 MB)\n",
      "Collecting kiwisolver>=1.0.1\n",
      "  Using cached kiwisolver-1.3.1-cp38-cp38-manylinux1_x86_64.whl (1.2 MB)\n",
      "Collecting cycler>=0.10\n",
      "  Using cached cycler-0.10.0-py2.py3-none-any.whl (6.5 kB)\n",
      "Requirement already satisfied: numpy>=1.16 in /home/carolvettor/Repos/python-inovacao-civica/venv/lib/python3.8/site-packages (from matplotlib) (1.21.2)\n",
      "Requirement already satisfied: python-dateutil>=2.7 in /home/carolvettor/Repos/python-inovacao-civica/venv/lib/python3.8/site-packages (from matplotlib) (2.8.2)\n",
      "Requirement already satisfied: six in /home/carolvettor/Repos/python-inovacao-civica/venv/lib/python3.8/site-packages (from cycler>=0.10->matplotlib) (1.16.0)\n",
      "Installing collected packages: pillow, kiwisolver, cycler, matplotlib\n",
      "Successfully installed cycler-0.10.0 kiwisolver-1.3.1 matplotlib-3.4.3 pillow-8.3.1\n",
      "Note: you may need to restart the kernel to use updated packages.\n"
     ]
    }
   ],
   "source": [
    "pip install matplotlib"
   ]
  },
  {
   "cell_type": "code",
   "execution_count": 24,
   "id": "a62cdc67",
   "metadata": {},
   "outputs": [
    {
     "data": {
      "text/plain": [
       "<AxesSubplot:ylabel='SG_PARTIDO,NM_PARTIDO'>"
      ]
     },
     "execution_count": 24,
     "metadata": {},
     "output_type": "execute_result"
    },
    {
     "data": {
      "image/png": "[encoded data removed]",
      "text/plain": [
       "<Figure size 432x288 with 1 Axes>"
      ]
     },
     "metadata": {
      "needs_background": "light"
     },
     "output_type": "display_data"
    }
   ],
   "source": [
    "top_10.sort_values(by='VR_RECEITA').plot(kind='barh')"
   ]
  },
  {
   "cell_type": "markdown",
   "id": "8bf066af",
   "metadata": {},
   "source": [
    "## Qual o valor médio das doações por tipo de doador?\n",
    "\n",
    "Agora é sua vez! A partir dos comandos anteriores, faça uma nova consulta para descobrir a mediana de acordo com o tipo de doador."
   ]
  },
  {
   "cell_type": "code",
   "execution_count": 40,
   "id": "9f2cad4a",
   "metadata": {},
   "outputs": [
    {
     "data": {
      "text/html": [
       "<div>\n",
       "<style scoped>\n",
       "    .dataframe tbody tr th:only-of-type {\n",
       "        vertical-align: middle;\n",
       "    }\n",
       "\n",
       "    .dataframe tbody tr th {\n",
       "        vertical-align: top;\n",
       "    }\n",
       "\n",
       "    .dataframe thead th {\n",
       "        text-align: right;\n",
       "    }\n",
       "</style>\n",
       "<table border=\"1\" class=\"dataframe\">\n",
       "  <thead>\n",
       "    <tr style=\"text-align: right;\">\n",
       "      <th></th>\n",
       "      <th></th>\n",
       "      <th>VR_RECEITA</th>\n",
       "    </tr>\n",
       "    <tr>\n",
       "      <th>SG_UF</th>\n",
       "      <th>TIPO_DOADOR</th>\n",
       "      <th></th>\n",
       "    </tr>\n",
       "  </thead>\n",
       "  <tbody>\n",
       "    <tr>\n",
       "      <th rowspan=\"2\" valign=\"top\">AL</th>\n",
       "      <th>fisica</th>\n",
       "      <td>653.87</td>\n",
       "    </tr>\n",
       "    <tr>\n",
       "      <th>juridica</th>\n",
       "      <td>121419.70</td>\n",
       "    </tr>\n",
       "    <tr>\n",
       "      <th rowspan=\"2\" valign=\"top\">BA</th>\n",
       "      <th>fisica</th>\n",
       "      <td>1962.93</td>\n",
       "    </tr>\n",
       "    <tr>\n",
       "      <th>juridica</th>\n",
       "      <td>40453.71</td>\n",
       "    </tr>\n",
       "    <tr>\n",
       "      <th rowspan=\"2\" valign=\"top\">CE</th>\n",
       "      <th>fisica</th>\n",
       "      <td>2127.78</td>\n",
       "    </tr>\n",
       "    <tr>\n",
       "      <th>juridica</th>\n",
       "      <td>66957.93</td>\n",
       "    </tr>\n",
       "    <tr>\n",
       "      <th rowspan=\"2\" valign=\"top\">MA</th>\n",
       "      <th>fisica</th>\n",
       "      <td>2542.02</td>\n",
       "    </tr>\n",
       "    <tr>\n",
       "      <th>juridica</th>\n",
       "      <td>65374.25</td>\n",
       "    </tr>\n",
       "    <tr>\n",
       "      <th rowspan=\"2\" valign=\"top\">PB</th>\n",
       "      <th>fisica</th>\n",
       "      <td>817.42</td>\n",
       "    </tr>\n",
       "    <tr>\n",
       "      <th>juridica</th>\n",
       "      <td>71048.88</td>\n",
       "    </tr>\n",
       "    <tr>\n",
       "      <th rowspan=\"2\" valign=\"top\">PE</th>\n",
       "      <th>fisica</th>\n",
       "      <td>2687.90</td>\n",
       "    </tr>\n",
       "    <tr>\n",
       "      <th>juridica</th>\n",
       "      <td>94264.60</td>\n",
       "    </tr>\n",
       "    <tr>\n",
       "      <th rowspan=\"2\" valign=\"top\">PI</th>\n",
       "      <th>fisica</th>\n",
       "      <td>1200.90</td>\n",
       "    </tr>\n",
       "    <tr>\n",
       "      <th>juridica</th>\n",
       "      <td>78605.49</td>\n",
       "    </tr>\n",
       "    <tr>\n",
       "      <th rowspan=\"2\" valign=\"top\">RN</th>\n",
       "      <th>fisica</th>\n",
       "      <td>1244.89</td>\n",
       "    </tr>\n",
       "    <tr>\n",
       "      <th>juridica</th>\n",
       "      <td>48464.93</td>\n",
       "    </tr>\n",
       "    <tr>\n",
       "      <th rowspan=\"2\" valign=\"top\">SE</th>\n",
       "      <th>fisica</th>\n",
       "      <td>1888.99</td>\n",
       "    </tr>\n",
       "    <tr>\n",
       "      <th>juridica</th>\n",
       "      <td>53392.89</td>\n",
       "    </tr>\n",
       "  </tbody>\n",
       "</table>\n",
       "</div>"
      ],
      "text/plain": [
       "                   VR_RECEITA\n",
       "SG_UF TIPO_DOADOR            \n",
       "AL    fisica           653.87\n",
       "      juridica      121419.70\n",
       "BA    fisica          1962.93\n",
       "      juridica       40453.71\n",
       "CE    fisica          2127.78\n",
       "      juridica       66957.93\n",
       "MA    fisica          2542.02\n",
       "      juridica       65374.25\n",
       "PB    fisica           817.42\n",
       "      juridica       71048.88\n",
       "PE    fisica          2687.90\n",
       "      juridica       94264.60\n",
       "PI    fisica          1200.90\n",
       "      juridica       78605.49\n",
       "RN    fisica          1244.89\n",
       "      juridica       48464.93\n",
       "SE    fisica          1888.99\n",
       "      juridica       53392.89"
      ]
     },
     "execution_count": 40,
     "metadata": {},
     "output_type": "execute_result"
    }
   ],
   "source": [
    "df_final[['TIPO_DOADOR','SG_UF','VR_RECEITA']].groupby(by=['SG_UF','TIPO_DOADOR']).mean().round(2)"
   ]
  },
  {
   "cell_type": "code",
   "execution_count": 36,
   "id": "80e5b44d-e0a6-45e9-9686-7f4691c33620",
   "metadata": {},
   "outputs": [
    {
     "data": {
      "text/plain": [
       "10000000"
      ]
     },
     "execution_count": 36,
     "metadata": {},
     "output_type": "execute_result"
    }
   ],
   "source": [
    "df_final['VR_RECEITA'].max().round(-7)"
   ]
  },
  {
   "cell_type": "code",
   "execution_count": 41,
   "id": "3f070e2a-c283-4ea9-a59d-d65f3df625a0",
   "metadata": {},
   "outputs": [
    {
     "data": {
      "text/html": [
       "<div>\n",
       "<style scoped>\n",
       "    .dataframe tbody tr th:only-of-type {\n",
       "        vertical-align: middle;\n",
       "    }\n",
       "\n",
       "    .dataframe tbody tr th {\n",
       "        vertical-align: top;\n",
       "    }\n",
       "\n",
       "    .dataframe thead tr th {\n",
       "        text-align: left;\n",
       "    }\n",
       "\n",
       "    .dataframe thead tr:last-of-type th {\n",
       "        text-align: right;\n",
       "    }\n",
       "</style>\n",
       "<table border=\"1\" class=\"dataframe\">\n",
       "  <thead>\n",
       "    <tr>\n",
       "      <th></th>\n",
       "      <th colspan=\"3\" halign=\"left\">VR_RECEITA</th>\n",
       "    </tr>\n",
       "    <tr>\n",
       "      <th></th>\n",
       "      <th>min</th>\n",
       "      <th>median</th>\n",
       "      <th>max</th>\n",
       "    </tr>\n",
       "    <tr>\n",
       "      <th>TIPO_DOADOR</th>\n",
       "      <th></th>\n",
       "      <th></th>\n",
       "      <th></th>\n",
       "    </tr>\n",
       "  </thead>\n",
       "  <tbody>\n",
       "    <tr>\n",
       "      <th>fisica</th>\n",
       "      <td>0</td>\n",
       "      <td>600.0</td>\n",
       "      <td>200000</td>\n",
       "    </tr>\n",
       "    <tr>\n",
       "      <th>juridica</th>\n",
       "      <td>0</td>\n",
       "      <td>1500.0</td>\n",
       "      <td>11900000</td>\n",
       "    </tr>\n",
       "  </tbody>\n",
       "</table>\n",
       "</div>"
      ],
      "text/plain": [
       "            VR_RECEITA                  \n",
       "                   min  median       max\n",
       "TIPO_DOADOR                             \n",
       "fisica               0   600.0    200000\n",
       "juridica             0  1500.0  11900000"
      ]
     },
     "execution_count": 41,
     "metadata": {},
     "output_type": "execute_result"
    }
   ],
   "source": [
    "df_final.groupby(by='TIPO_DOADOR').agg({'VR_RECEITA': ['min', 'median', 'max']})"
   ]
  },
  {
   "cell_type": "markdown",
   "id": "0da86751",
   "metadata": {},
   "source": [
    "# Entreviste você mesmo"
   ]
  },
  {
   "cell_type": "markdown",
   "id": "f204f26f",
   "metadata": {},
   "source": [
    "Escreva abaixo pelo menos outras três perguntas que podem ser feitas à base de dados. Escreva a pergunta como um comentário acima do código com a consulta em Python."
   ]
  },
  {
   "cell_type": "markdown",
   "id": "e3551311",
   "metadata": {},
   "source": [
    "COmparar o max, mim e mean na mesma query, "
   ]
  }
 ],
 "metadata": {
  "interpreter": {
   "hash": "916dbcbb3f70747c44a77c7bcd40155683ae19c65e1c03b4aa3499c5328201f1"
  },
  "kernelspec": {
   "display_name": "Python 3 (ipykernel)",
   "language": "python",
   "name": "python3"
  },
  "language_info": {
   "codemirror_mode": {
    "name": "ipython",
    "version": 3
   },
   "file_extension": ".py",
   "mimetype": "text/x-python",
   "name": "python",
   "nbconvert_exporter": "python",
   "pygments_lexer": "ipython3",
   "version": "3.8.10"
  }
 },
 "nbformat": 4,
 "nbformat_minor": 5
}
